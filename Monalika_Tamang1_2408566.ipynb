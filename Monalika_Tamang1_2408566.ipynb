{
  "nbformat": 4,
  "nbformat_minor": 0,
  "metadata": {
    "colab": {
      "provenance": []
    },
    "kernelspec": {
      "name": "python3",
      "display_name": "Python 3"
    },
    "language_info": {
      "name": "python"
    }
  },
  "cells": [
    {
      "cell_type": "code",
      "source": [
        "a1=[1,2,3]\n",
        "a2=[4,5,6]\n",
        "sum_r=[]\n",
        "for i in range(len(a1)):\n",
        "  sum_r.append(a1[i]+a2[i])\n",
        "print(sum_r)"
      ],
      "metadata": {
        "colab": {
          "base_uri": "https://localhost:8080/"
        },
        "id": "dTwMevVWPYps",
        "outputId": "f474cdc3-63d6-4623-9e67-97c4804bc946"
      },
      "execution_count": null,
      "outputs": [
        {
          "output_type": "stream",
          "name": "stdout",
          "text": [
            "[5, 7, 9]\n"
          ]
        }
      ]
    },
    {
      "cell_type": "code",
      "source": [
        "import numpy as np\n",
        "a1 = np.array([1,2,3])\n",
        "a2 = np.array([1])\n",
        "print(np.add(a1,a2))"
      ],
      "metadata": {
        "colab": {
          "base_uri": "https://localhost:8080/"
        },
        "id": "8LhOv4lJUA9N",
        "outputId": "d64c9dfc-3fbb-4b70-af66-b03a800e2704"
      },
      "execution_count": null,
      "outputs": [
        {
          "output_type": "stream",
          "name": "stdout",
          "text": [
            "[2 3 4]\n"
          ]
        }
      ]
    },
    {
      "cell_type": "code",
      "source": [
        "#Problem1\n",
        "#Qn1\n",
        "import numpy as np\n",
        "empty_array = np.zeros((2,2))\n",
        "print(empty_array)"
      ],
      "metadata": {
        "colab": {
          "base_uri": "https://localhost:8080/"
        },
        "id": "3FhAyLEaWZIK",
        "outputId": "abb84a6b-52af-4b1e-88da-8483422ae260"
      },
      "execution_count": null,
      "outputs": [
        {
          "output_type": "stream",
          "name": "stdout",
          "text": [
            "[[0. 0.]\n",
            " [0. 0.]]\n"
          ]
        }
      ]
    },
    {
      "cell_type": "code",
      "source": [
        "#Qn2\n",
        "import numpy as np\n",
        "ones_array = np.ones((4,2))\n",
        "print(ones_array)"
      ],
      "metadata": {
        "colab": {
          "base_uri": "https://localhost:8080/"
        },
        "id": "2RkzVl-xYxL7",
        "outputId": "86e08865-4518-478d-f6c9-6d8a33272c68"
      },
      "execution_count": null,
      "outputs": [
        {
          "output_type": "stream",
          "name": "stdout",
          "text": [
            "[[1. 1.]\n",
            " [1. 1.]\n",
            " [1. 1.]\n",
            " [1. 1.]]\n"
          ]
        }
      ]
    },
    {
      "cell_type": "code",
      "source": [
        "#Qn3\n",
        "import numpy as np\n",
        "array = np.full((2,3), 5)\n",
        "print(array)"
      ],
      "metadata": {
        "colab": {
          "base_uri": "https://localhost:8080/"
        },
        "id": "ea8E20sFZsDc",
        "outputId": "bde93739-677b-4b96-9b3f-1e3213f9e47e"
      },
      "execution_count": null,
      "outputs": [
        {
          "output_type": "stream",
          "name": "stdout",
          "text": [
            "[[5 5 5]\n",
            " [5 5 5]]\n"
          ]
        }
      ]
    },
    {
      "cell_type": "code",
      "source": [
        "#Qn4\n",
        "import numpy as np\n",
        "#Example array\n",
        "array = np.array([[2, 2], [3, 3]])\n",
        "\n",
        "#New array of zeros with same shape and size as example array\n",
        "zeroArray = np.zeros_like(array)\n",
        "print(zeroArray)"
      ],
      "metadata": {
        "id": "L7KyddyWcIxg",
        "colab": {
          "base_uri": "https://localhost:8080/"
        },
        "outputId": "ed4dad78-029a-4ab7-c5b0-28bdf83a70c1"
      },
      "execution_count": null,
      "outputs": [
        {
          "output_type": "stream",
          "name": "stdout",
          "text": [
            "[[0 0]\n",
            " [0 0]]\n"
          ]
        }
      ]
    },
    {
      "cell_type": "code",
      "source": [
        "#Qn5\n",
        "import numpy as np\n",
        "#Example array\n",
        "arr1 = np.array([[1, 2, 3], [4, 5, 6], [7, 8, 9]])\n",
        "\n",
        "#New array of ones with same shape and size as example array\n",
        "onesArray = np.ones_like(arr1)\n",
        "print(onesArray)"
      ],
      "metadata": {
        "colab": {
          "base_uri": "https://localhost:8080/"
        },
        "id": "5fyDA586Ypf_",
        "outputId": "464d457f-8077-4c21-cda0-a9a26577ffc9"
      },
      "execution_count": null,
      "outputs": [
        {
          "output_type": "stream",
          "name": "stdout",
          "text": [
            "[[1 1 1]\n",
            " [1 1 1]\n",
            " [1 1 1]]\n"
          ]
        }
      ]
    },
    {
      "cell_type": "code",
      "source": [
        "#Qn6\n",
        "import numpy as np\n",
        "\n",
        "new_list = [1, 2, 3, 4]\n",
        "arr = np.array(new_list)\n",
        "print(arr)"
      ],
      "metadata": {
        "colab": {
          "base_uri": "https://localhost:8080/"
        },
        "id": "OcferVrJZOeh",
        "outputId": "9709894c-4c30-4940-a1cf-e74dd1cce0b0"
      },
      "execution_count": null,
      "outputs": [
        {
          "output_type": "stream",
          "name": "stdout",
          "text": [
            "[1 2 3 4]\n"
          ]
        }
      ]
    },
    {
      "cell_type": "code",
      "source": [
        "#Problem2\n",
        "#Qn1\n",
        "import numpy as np\n",
        "\n",
        "#use of arange allows to print from 10 to 49 and doesnot include 50\n",
        "array = np.arange(10, 50)\n",
        "print(array)"
      ],
      "metadata": {
        "colab": {
          "base_uri": "https://localhost:8080/"
        },
        "id": "l_1mDB8FZ2bo",
        "outputId": "83f13b2a-bc63-41e0-cccd-5c75628d2405"
      },
      "execution_count": null,
      "outputs": [
        {
          "output_type": "stream",
          "name": "stdout",
          "text": [
            "[10 11 12 13 14 15 16 17 18 19 20 21 22 23 24 25 26 27 28 29 30 31 32 33\n",
            " 34 35 36 37 38 39 40 41 42 43 44 45 46 47 48 49]\n"
          ]
        }
      ]
    },
    {
      "cell_type": "code",
      "source": [
        "#Qn2\n",
        "import numpy as np\n",
        "\n",
        "#Create array from 0 to 8\n",
        "arr1 = np.arange(9)\n",
        "\n",
        "#reshape the arr1 into matrix\n",
        "matrix = arr1.reshape(3, 3)\n",
        "print(matrix)"
      ],
      "metadata": {
        "colab": {
          "base_uri": "https://localhost:8080/"
        },
        "id": "5BFaLCXkao5W",
        "outputId": "11cfef42-da89-4278-c714-521bc675b7d3"
      },
      "execution_count": null,
      "outputs": [
        {
          "output_type": "stream",
          "name": "stdout",
          "text": [
            "[[0 1 2]\n",
            " [3 4 5]\n",
            " [6 7 8]]\n"
          ]
        }
      ]
    },
    {
      "cell_type": "code",
      "source": [
        "#Qn3\n",
        "import numpy as np\n",
        "\n",
        "#use np.eye to create identity matrix of any shape and size\n",
        "identity_matrix = np.eye(3, 3)\n",
        "print(identity_matrix)"
      ],
      "metadata": {
        "colab": {
          "base_uri": "https://localhost:8080/"
        },
        "id": "ZJBCt530bx0n",
        "outputId": "b65e2d1d-5d8f-4ec5-c1ca-ef695e816cd7"
      },
      "execution_count": null,
      "outputs": [
        {
          "output_type": "stream",
          "name": "stdout",
          "text": [
            "[[1. 0. 0.]\n",
            " [0. 1. 0.]\n",
            " [0. 0. 1.]]\n"
          ]
        }
      ]
    },
    {
      "cell_type": "code",
      "source": [
        "#Qn4\n",
        "import numpy as np\n",
        "\n",
        "#Create a random array of size 30\n",
        "arr1 = np.random.rand(30)\n",
        "\n",
        "#Calculate its mean with arr1.mean()\n",
        "array_mean = arr1.mean()\n",
        "\n",
        "print(\"Random array is: \", arr1)\n",
        "print(\"Mean of random array is: \", array_mean)"
      ],
      "metadata": {
        "colab": {
          "base_uri": "https://localhost:8080/"
        },
        "id": "yPvZ076bcnd8",
        "outputId": "bfa273f2-951b-4af8-a102-da9914cd6703"
      },
      "execution_count": null,
      "outputs": [
        {
          "output_type": "stream",
          "name": "stdout",
          "text": [
            "Random array is:  [0.5663371  0.11146332 0.94457831 0.22392722 0.97263039 0.59098595\n",
            " 0.34511539 0.18835994 0.50170205 0.42327948 0.00194756 0.43031754\n",
            " 0.42629248 0.63654238 0.20707779 0.06245691 0.98239914 0.87053758\n",
            " 0.10717216 0.99915784 0.90442876 0.5091899  0.66336604 0.22429271\n",
            " 0.78774079 0.40981912 0.49235484 0.55307797 0.53422835 0.40279056]\n",
            "Mean of random array is:  0.5024523195728615\n"
          ]
        }
      ]
    },
    {
      "cell_type": "code",
      "source": [
        "#Qn5\n",
        "import numpy as np\n",
        "\n",
        "#create random array of size 10x10\n",
        "array = np.random.rand(10, 10)\n",
        "\n",
        "#find minimum and maximum value\n",
        "min_value = array.min()\n",
        "max_value = array.max()\n",
        "\n",
        "print(\"Random array: \", array)\n",
        "print(\"Minimum value: \", min_value)\n",
        "print(\"Maximum value: \", max_value)"
      ],
      "metadata": {
        "colab": {
          "base_uri": "https://localhost:8080/"
        },
        "id": "YSBv8AirddCv",
        "outputId": "6c26d8b3-1b1b-436d-8264-acc920ad0f7e"
      },
      "execution_count": null,
      "outputs": [
        {
          "output_type": "stream",
          "name": "stdout",
          "text": [
            "Random array:  [[0.56847933 0.57755631 0.15797382 0.69109491 0.66604642 0.29030182\n",
            "  0.90104132 0.47398556 0.82851092 0.64443294]\n",
            " [0.24411167 0.29666533 0.64361246 0.97174686 0.67229028 0.16585819\n",
            "  0.30206409 0.0878045  0.07003089 0.78921999]\n",
            " [0.23052567 0.13650708 0.29321987 0.13908277 0.3810635  0.22470511\n",
            "  0.51494917 0.42902817 0.23997323 0.23080957]\n",
            " [0.1761829  0.79814843 0.15192205 0.68358882 0.17184641 0.78512598\n",
            "  0.84086526 0.37836959 0.52208961 0.64793257]\n",
            " [0.86525812 0.08731466 0.73585846 0.79579737 0.29222537 0.17013183\n",
            "  0.36070516 0.36723494 0.06202901 0.85198149]\n",
            " [0.75368913 0.12432508 0.44493926 0.08181737 0.56228355 0.01775664\n",
            "  0.98812408 0.64781388 0.22731702 0.49584184]\n",
            " [0.35413988 0.59915466 0.23390023 0.46186821 0.23934067 0.81202164\n",
            "  0.6768718  0.34429789 0.05183872 0.4772049 ]\n",
            " [0.65233073 0.08055135 0.61764583 0.26518193 0.29378385 0.68160736\n",
            "  0.35560195 0.61465362 0.29468818 0.34669426]\n",
            " [0.11980231 0.70381252 0.55581385 0.79281513 0.54664748 0.32057367\n",
            "  0.40633616 0.30427932 0.50979448 0.93893968]\n",
            " [0.6119975  0.47970761 0.26090301 0.88973295 0.89165623 0.49361505\n",
            "  0.95472518 0.34054865 0.93826536 0.42528606]]\n",
            "Minimum value:  0.01775664179403391\n",
            "Maximum value:  0.9881240801985864\n"
          ]
        }
      ]
    },
    {
      "cell_type": "code",
      "source": [
        "#Qn6\n",
        "import numpy as np\n",
        "\n",
        "#create zero array of 10x10\n",
        "zero_array = np.zeros((10, 10))\n",
        "\n",
        "#replace 5th element by 1\n",
        "#0=1st row and 4=5th column\n",
        "zero_array[0, 4] = 1\n",
        "\n",
        "print(\"Zero array: \")\n",
        "print(zero_array)"
      ],
      "metadata": {
        "colab": {
          "base_uri": "https://localhost:8080/"
        },
        "id": "4X7rY_h6fXIo",
        "outputId": "9f760306-a684-4d5e-bbe5-e8afea5bb862"
      },
      "execution_count": null,
      "outputs": [
        {
          "output_type": "stream",
          "name": "stdout",
          "text": [
            "Zero array: \n",
            "[[0. 0. 0. 0. 1. 0. 0. 0. 0. 0.]\n",
            " [0. 0. 0. 0. 0. 0. 0. 0. 0. 0.]\n",
            " [0. 0. 0. 0. 0. 0. 0. 0. 0. 0.]\n",
            " [0. 0. 0. 0. 0. 0. 0. 0. 0. 0.]\n",
            " [0. 0. 0. 0. 0. 0. 0. 0. 0. 0.]\n",
            " [0. 0. 0. 0. 0. 0. 0. 0. 0. 0.]\n",
            " [0. 0. 0. 0. 0. 0. 0. 0. 0. 0.]\n",
            " [0. 0. 0. 0. 0. 0. 0. 0. 0. 0.]\n",
            " [0. 0. 0. 0. 0. 0. 0. 0. 0. 0.]\n",
            " [0. 0. 0. 0. 0. 0. 0. 0. 0. 0.]]\n"
          ]
        }
      ]
    },
    {
      "cell_type": "code",
      "source": [
        "#Qn7\n",
        "import numpy as np\n",
        "\n",
        "arr = [1,2,0,0,4,0]\n",
        "\n",
        "#slicing method to reverse array: -1 means starting from end to start\n",
        "reversed_array = arr[::-1]\n",
        "\n",
        "print(\"Given array: \",arr)\n",
        "print(\"Reversed array: \",reversed_array)"
      ],
      "metadata": {
        "colab": {
          "base_uri": "https://localhost:8080/"
        },
        "id": "hQ9NndPWg7ZZ",
        "outputId": "404d12fb-64e5-4025-f02d-11cfda6d2513"
      },
      "execution_count": null,
      "outputs": [
        {
          "output_type": "stream",
          "name": "stdout",
          "text": [
            "Given array:  [1, 2, 0, 0, 4, 0]\n",
            "Reversed array:  [0, 4, 0, 0, 2, 1]\n"
          ]
        }
      ]
    },
    {
      "cell_type": "code",
      "source": [
        "#Qn8\n",
        "import numpy as np\n",
        "\n",
        "arr = np.ones((5, 5))\n",
        "arr[1:-1, 1:-1] = 0\n",
        "print(arr)"
      ],
      "metadata": {
        "colab": {
          "base_uri": "https://localhost:8080/"
        },
        "id": "1QLerTxiiAQQ",
        "outputId": "8b8c1f89-1d41-486a-8ad4-e49123a0e660"
      },
      "execution_count": null,
      "outputs": [
        {
          "output_type": "stream",
          "name": "stdout",
          "text": [
            "[[1. 1. 1. 1. 1.]\n",
            " [1. 0. 0. 0. 1.]\n",
            " [1. 0. 0. 0. 1.]\n",
            " [1. 0. 0. 0. 1.]\n",
            " [1. 1. 1. 1. 1.]]\n"
          ]
        }
      ]
    },
    {
      "cell_type": "code",
      "source": [
        "#Qn9\n",
        "import numpy as np\n",
        "checkerboard = np.zeros((8, 8))\n",
        "checkerboard[1::2, ::2] = 1\n",
        "checkerboard[::2, 1::2] = 1\n",
        "print(checkerboard)"
      ],
      "metadata": {
        "id": "yH5obPZnt81q",
        "colab": {
          "base_uri": "https://localhost:8080/"
        },
        "outputId": "eb7bd28d-0024-4379-a74a-3c65fddbd7e1"
      },
      "execution_count": null,
      "outputs": [
        {
          "output_type": "stream",
          "name": "stdout",
          "text": [
            "[[0. 1. 0. 1. 0. 1. 0. 1.]\n",
            " [1. 0. 1. 0. 1. 0. 1. 0.]\n",
            " [0. 1. 0. 1. 0. 1. 0. 1.]\n",
            " [1. 0. 1. 0. 1. 0. 1. 0.]\n",
            " [0. 1. 0. 1. 0. 1. 0. 1.]\n",
            " [1. 0. 1. 0. 1. 0. 1. 0.]\n",
            " [0. 1. 0. 1. 0. 1. 0. 1.]\n",
            " [1. 0. 1. 0. 1. 0. 1. 0.]]\n"
          ]
        }
      ]
    },
    {
      "cell_type": "code",
      "source": [
        "#Problem3\n",
        "#Qn1\n",
        "import numpy as np\n",
        "\n",
        "x = np.array([[1,2],[3,5]])\n",
        "y = np.array([[5,6],[7,8]])\n",
        "\n",
        "array_Sum = np.add(x,y)\n",
        "print(\"x:\\n\", x)\n",
        "print(\"y:\\n\", y)\n",
        "\n",
        "print(\"Sum of x and y:\\n\",array_Sum)"
      ],
      "metadata": {
        "colab": {
          "base_uri": "https://localhost:8080/"
        },
        "id": "EJsBnWILuAPQ",
        "outputId": "b1901fd4-7940-4bbe-8683-5efb1dd16a5a"
      },
      "execution_count": null,
      "outputs": [
        {
          "output_type": "stream",
          "name": "stdout",
          "text": [
            "x:\n",
            " [[1 2]\n",
            " [3 5]]\n",
            "y:\n",
            " [[5 6]\n",
            " [7 8]]\n",
            "Sum of x and y:\n",
            " [[ 6  8]\n",
            " [10 13]]\n"
          ]
        }
      ]
    },
    {
      "cell_type": "code",
      "source": [
        "#Qn2\n",
        "import numpy as np\n",
        "\n",
        "v = np.array([9,10])\n",
        "w = np.array([11,12])\n",
        "\n",
        "array_sub = np.subtract(v, w)\n",
        "\n",
        "print(\"v:\", v)\n",
        "print(\"w:\", w)\n",
        "\n",
        "print(\"Difference of v and w:\\n\",array_sub)"
      ],
      "metadata": {
        "colab": {
          "base_uri": "https://localhost:8080/"
        },
        "id": "zPKGL4W5viks",
        "outputId": "a7505afb-76be-4408-e2ec-634ce8039086"
      },
      "execution_count": null,
      "outputs": [
        {
          "output_type": "stream",
          "name": "stdout",
          "text": [
            "v: [ 9 10]\n",
            "w: [11 12]\n",
            "Difference of v and w:\n",
            " [-2 -2]\n"
          ]
        }
      ]
    },
    {
      "cell_type": "code",
      "source": [
        "#Qn3\n",
        "import numpy as np\n",
        "\n",
        "#multiplying by an integer:3 to array x\n",
        "arr = 3*x\n",
        "\n",
        "print(\"x:\\n\",x)\n",
        "print(\"After multiplying by 3:\\n\", arr)"
      ],
      "metadata": {
        "colab": {
          "base_uri": "https://localhost:8080/"
        },
        "id": "bbNxKm5VwMXc",
        "outputId": "59ddfb03-d5cd-4d71-b1a8-af356ab63c3c"
      },
      "execution_count": null,
      "outputs": [
        {
          "output_type": "stream",
          "name": "stdout",
          "text": [
            "x:\n",
            " [[1 2]\n",
            " [3 5]]\n",
            "After multiplying by 3:\n",
            " [[ 3  6]\n",
            " [ 9 15]]\n"
          ]
        }
      ]
    },
    {
      "cell_type": "code",
      "source": [
        "#Qn4\n",
        "import numpy as np\n",
        "\n",
        "#square each element of array v\n",
        "sq_array = np.square(v)\n",
        "\n",
        "print(\"v:\",v)\n",
        "print(\"Square of v:\",sq_array)"
      ],
      "metadata": {
        "colab": {
          "base_uri": "https://localhost:8080/"
        },
        "id": "E0QGsqZjxGJz",
        "outputId": "52959981-5cbf-4d18-f9fb-d5d76972f50a"
      },
      "execution_count": null,
      "outputs": [
        {
          "output_type": "stream",
          "name": "stdout",
          "text": [
            "v: [ 9 10]\n",
            "Square of v: [ 81 100]\n"
          ]
        }
      ]
    },
    {
      "cell_type": "code",
      "source": [
        "#Qn5\n",
        "import numpy as np\n",
        "\n",
        "#dot product between v(and)w\n",
        "dot1 = np.dot(v,w)\n",
        "\n",
        "#dot product between x(and)v\n",
        "dot2 = np.dot(x,v)\n",
        "\n",
        "#dot product between x(and)y\n",
        "dot3 = np.dot(x,y)\n",
        "\n",
        "print(\"Dot product between v(and)w:\",dot1)\n",
        "print(\"Dot product between x(and)v:\",dot2)\n",
        "print(\"Dot product between x(and)y:\\n\",dot3)"
      ],
      "metadata": {
        "colab": {
          "base_uri": "https://localhost:8080/"
        },
        "id": "3BuqeItDxxUI",
        "outputId": "e9422bb2-2c19-4e32-9501-d6f9f8403cc2"
      },
      "execution_count": null,
      "outputs": [
        {
          "output_type": "stream",
          "name": "stdout",
          "text": [
            "Dot product between v(and)w: 219\n",
            "Dot product between x(and)v: [29 77]\n",
            "Dot product between x(and)y:\n",
            " [[19 22]\n",
            " [50 58]]\n"
          ]
        }
      ]
    },
    {
      "cell_type": "code",
      "source": [
        "#Qn6\n",
        "import numpy as np\n",
        "\n",
        "#concatenate x and y along row with axis=1\n",
        "con1 = np.concatenate((x,y), axis=0)\n",
        "\n",
        "#concatenate v and w along column using hstack()\n",
        "stack1 = np.vstack((v,w))\n",
        "\n",
        "print(\"Concatenate x and y along row:\\n\",con1)\n",
        "print(\"Concatenate v and w along column:\",stack1)"
      ],
      "metadata": {
        "colab": {
          "base_uri": "https://localhost:8080/"
        },
        "id": "Sjy_nDNpyqcp",
        "outputId": "5f3bf660-ba97-4d27-e8a9-ff483613543a"
      },
      "execution_count": null,
      "outputs": [
        {
          "output_type": "stream",
          "name": "stdout",
          "text": [
            "Concatenate x and y along row:\n",
            " [[1 2]\n",
            " [3 5]\n",
            " [5 6]\n",
            " [7 8]]\n",
            "Concatenate v and w along column: [[ 9 10]\n",
            " [11 12]]\n"
          ]
        }
      ]
    },
    {
      "cell_type": "code",
      "source": [
        "#Qn7\n",
        "import numpy as np\n",
        "\n",
        "#Concatenate x and v\n",
        "\n",
        "try:\n",
        "    concat_xv = np.concatenate((x, v), axis=0)\n",
        "except ValueError as e:\n",
        "    concat_xv_error = str(e)\n",
        "print(concat_xv_error)\n",
        "\n"
      ],
      "metadata": {
        "colab": {
          "base_uri": "https://localhost:8080/"
        },
        "id": "LC2-vLz32ggH",
        "outputId": "1406c30c-2859-4d5a-ad68-ce5179dc3a17"
      },
      "execution_count": null,
      "outputs": [
        {
          "output_type": "stream",
          "name": "stdout",
          "text": [
            "all the input arrays must have same number of dimensions, but the array at index 0 has 2 dimension(s) and the array at index 1 has 1 dimension(s)\n"
          ]
        }
      ]
    },
    {
      "cell_type": "code",
      "source": [
        "#Problem4\n",
        "#Qn1\n",
        "import numpy as np\n",
        "\n",
        "A = np.array([[3,4],[7,8]])\n",
        "B = np.array([[5,3],[2,1]])\n",
        "\n",
        "#Inverse of matrix A\n",
        "A_inverse = np.linalg.inv(A)\n",
        "#Product of A and A inverse\n",
        "result = np.dot(A, A_inverse)\n",
        "identity_matrix = np.eye(2)\n",
        "\n",
        "print(\"Matrix A:\\n\",A)\n",
        "print(\"Inverse of matrix A:\\n\",A_inverse)\n",
        "print(\"A*A^-1:\\n\",result)\n",
        "print(\"Identity matrix:\\n\",identity_matrix)"
      ],
      "metadata": {
        "colab": {
          "base_uri": "https://localhost:8080/"
        },
        "id": "uNPZbG-23Cj7",
        "outputId": "e82b691e-d7f4-4397-8732-32d59c921ddc"
      },
      "execution_count": null,
      "outputs": [
        {
          "output_type": "stream",
          "name": "stdout",
          "text": [
            "Matrix A:\n",
            " [[3 4]\n",
            " [7 8]]\n",
            "Inverse of matrix A:\n",
            " [[-2.    1.  ]\n",
            " [ 1.75 -0.75]]\n",
            "A*A^-1:\n",
            " [[1.00000000e+00 0.00000000e+00]\n",
            " [1.77635684e-15 1.00000000e+00]]\n",
            "Identity matrix:\n",
            " [[1. 0.]\n",
            " [0. 1.]]\n"
          ]
        }
      ]
    },
    {
      "cell_type": "code",
      "source": [
        "#Qn2\n",
        "import numpy as np\n",
        "\n",
        "A = np.array([[3,4],[7,8]])\n",
        "B = np.array([[5,3],[2,1]])\n",
        "\n",
        "AB = np.dot(A, B)\n",
        "BA = np.dot(B, A)\n",
        "\n",
        "print(\"AB:\\n\",AB)\n",
        "print(\"BA:\\n\",BA)\n",
        "print(np.array_equal(AB, BA))"
      ],
      "metadata": {
        "colab": {
          "base_uri": "https://localhost:8080/"
        },
        "id": "rotW6adn-jtb",
        "outputId": "6dd35016-aa28-4d04-8191-bbe9f47cd524"
      },
      "execution_count": null,
      "outputs": [
        {
          "output_type": "stream",
          "name": "stdout",
          "text": [
            "AB:\n",
            " [[23 13]\n",
            " [51 29]]\n",
            "BA:\n",
            " [[36 44]\n",
            " [13 16]]\n",
            "False\n"
          ]
        }
      ]
    },
    {
      "cell_type": "code",
      "source": [
        "#Qn3\n",
        "import numpy as np\n",
        "\n",
        "AB = np.dot(A, B)\n",
        "AB_T = np.transpose(AB)\n",
        "\n",
        "B_T = np.transpose(B)\n",
        "A_T = np.transpose(A)\n",
        "BT_AT = np.dot(B_T, A_T)\n",
        "\n",
        "print(\"Matrix (AB)^T:\\n\",AB_T)\n",
        "print(\"Matrix B^T*A^T:\\n\",BT_AT)\n",
        "print(np.array_equal(AB_T, BT_AT))"
      ],
      "metadata": {
        "colab": {
          "base_uri": "https://localhost:8080/"
        },
        "id": "c-1Gtf9zAVMK",
        "outputId": "c7e0fedb-f51c-4673-b51a-a6582c198a21"
      },
      "execution_count": null,
      "outputs": [
        {
          "output_type": "stream",
          "name": "stdout",
          "text": [
            "Matrix (AB)^T:\n",
            " [[23 51]\n",
            " [13 29]]\n",
            "Matrix B^T*A^T:\n",
            " [[23 51]\n",
            " [13 29]]\n",
            "True\n"
          ]
        }
      ]
    },
    {
      "cell_type": "code",
      "source": [
        "#Linear equation\n",
        "import numpy as np\n",
        "\n",
        "#The given equation in matrix form is\n",
        "A = np.array([[2, -3, 1], [1, -1, 2], [3, 1, -1]])\n",
        "B = np.array([-1, -3, 9])\n",
        "\n",
        "#For AX=B, X=A^-1.B so,\n",
        "A_inverse = np.linalg.inv(A)\n",
        "X = np.dot(A_inverse, B)\n",
        "\n",
        "print(\"Matrix A:\\n\",A)\n",
        "print(\"Matrix B:\\n\",B)\n",
        "print(\"Solution of AX=B:\\n\", X)\n",
        "print(\"Hence,\")\n",
        "print(\"x=\",X[0])\n",
        "print(\"y=\",X[1])\n",
        "print(\"z=\",X[2])\n"
      ],
      "metadata": {
        "colab": {
          "base_uri": "https://localhost:8080/"
        },
        "id": "0u7sZQfxB1y6",
        "outputId": "2c093798-af0a-4a92-f296-35aa6bac6f30"
      },
      "execution_count": null,
      "outputs": [
        {
          "output_type": "stream",
          "name": "stdout",
          "text": [
            "Matrix A:\n",
            " [[ 2 -3  1]\n",
            " [ 1 -1  2]\n",
            " [ 3  1 -1]]\n",
            "Matrix B:\n",
            " [-1 -3  9]\n",
            "Solution of AX=B:\n",
            " [ 2.  1. -2.]\n",
            "Hence,\n",
            "x= 2.0\n",
            "y= 1.0\n",
            "z= -2.0\n"
          ]
        }
      ]
    }
  ]
}