{
  "nbformat": 4,
  "nbformat_minor": 0,
  "metadata": {
    "colab": {
      "provenance": []
    },
    "kernelspec": {
      "name": "python3",
      "display_name": "Python 3"
    },
    "language_info": {
      "name": "python"
    }
  },
  "cells": [
    {
      "cell_type": "code",
      "execution_count": null,
      "metadata": {
        "id": "516I1xQlPwsw"
      },
      "outputs": [],
      "source": [
        "import pandas as pd"
      ]
    },
    {
      "cell_type": "code",
      "source": [
        "bank_df=pd.read_csv('/content/drive/MyDrive/bank .csv')"
      ],
      "metadata": {
        "id": "h4UmjAGFW69R"
      },
      "execution_count": 17,
      "outputs": []
    },
    {
      "cell_type": "code",
      "source": [
        "#Problem1\n",
        "#Qn1\n",
        "\n",
        "#loading the data to dataframe\n",
        "bank_df.head()\n",
        "bank_df.tail()\n",
        "bank_df.info()"
      ],
      "metadata": {
        "colab": {
          "base_uri": "https://localhost:8080/"
        },
        "id": "b41CD3wFahRm",
        "outputId": "277f3181-aacd-40cf-b1df-86f0f72288d6"
      },
      "execution_count": 18,
      "outputs": [
        {
          "output_type": "stream",
          "name": "stdout",
          "text": [
            "<class 'pandas.core.frame.DataFrame'>\n",
            "RangeIndex: 45211 entries, 0 to 45210\n",
            "Data columns (total 17 columns):\n",
            " #   Column     Non-Null Count  Dtype \n",
            "---  ------     --------------  ----- \n",
            " 0   age        45211 non-null  int64 \n",
            " 1   job        45211 non-null  object\n",
            " 2   marital    45211 non-null  object\n",
            " 3   education  45211 non-null  object\n",
            " 4   default    45211 non-null  object\n",
            " 5   balance    45211 non-null  int64 \n",
            " 6   housing    45211 non-null  object\n",
            " 7   loan       45211 non-null  object\n",
            " 8   contact    45211 non-null  object\n",
            " 9   day        45211 non-null  int64 \n",
            " 10  month      45211 non-null  object\n",
            " 11  duration   45211 non-null  int64 \n",
            " 12  campaign   45211 non-null  int64 \n",
            " 13  pdays      45211 non-null  int64 \n",
            " 14  previous   45211 non-null  int64 \n",
            " 15  poutcome   45211 non-null  object\n",
            " 16  y          45211 non-null  object\n",
            "dtypes: int64(7), object(10)\n",
            "memory usage: 5.9+ MB\n"
          ]
        }
      ]
    },
    {
      "cell_type": "code",
      "source": [
        "#Qn2\n",
        "column_dtype = bank_df.select_dtypes(include=[\"object\"]).columns\n",
        "print(\"Columns with dtype=object are:\\n\",column_dtype)\n",
        "\n",
        "for col in column_dtype:\n",
        "  print(f\"Unique calues in {col}: \",bank_df[col].unique())\n",
        "\n",
        "print(\"Null values in each column : \\n\",bank_df.isnull().sum())"
      ],
      "metadata": {
        "id": "EN9Xc7bKbpoB",
        "colab": {
          "base_uri": "https://localhost:8080/"
        },
        "outputId": "58a82df9-f78e-448b-dabf-9a8a5fabf144"
      },
      "execution_count": 20,
      "outputs": [
        {
          "output_type": "stream",
          "name": "stdout",
          "text": [
            "Columns with dtype=object are:\n",
            " Index(['job', 'marital', 'education', 'default', 'housing', 'loan', 'contact',\n",
            "       'month', 'poutcome', 'y'],\n",
            "      dtype='object')\n",
            "Unique calues in job:  ['management' 'technician' 'entrepreneur' 'blue-collar' 'unknown'\n",
            " 'retired' 'admin.' 'services' 'self-employed' 'unemployed' 'housemaid'\n",
            " 'student']\n",
            "Unique calues in marital:  ['married' 'single' 'divorced']\n",
            "Unique calues in education:  ['tertiary' 'secondary' 'unknown' 'primary']\n",
            "Unique calues in default:  ['no' 'yes']\n",
            "Unique calues in housing:  ['yes' 'no']\n",
            "Unique calues in loan:  ['no' 'yes']\n",
            "Unique calues in contact:  ['unknown' 'cellular' 'telephone']\n",
            "Unique calues in month:  ['may' 'jun' 'jul' 'aug' 'oct' 'nov' 'dec' 'jan' 'feb' 'mar' 'apr' 'sep']\n",
            "Unique calues in poutcome:  ['unknown' 'failure' 'other' 'success']\n",
            "Unique calues in y:  ['no' 'yes']\n",
            "Null values in each column : \n",
            " age          0\n",
            "job          0\n",
            "marital      0\n",
            "education    0\n",
            "default      0\n",
            "balance      0\n",
            "housing      0\n",
            "loan         0\n",
            "contact      0\n",
            "day          0\n",
            "month        0\n",
            "duration     0\n",
            "campaign     0\n",
            "pdays        0\n",
            "previous     0\n",
            "poutcome     0\n",
            "y            0\n",
            "dtype: int64\n"
          ]
        }
      ]
    },
    {
      "cell_type": "code",
      "source": [
        "#Qn3\n",
        "df_numeric = bank_df.select_dtypes(exclude=['object'])\n",
        "\n",
        "csv_file = \"banknumericdata.csv\"\n",
        "df_numeric.to_csv(csv_file, index=False)\n",
        "\n",
        "print(f\"Numeric DataFrame saved to {csv_file}\")\n",
        "print(\"Numeric DataFrame:\")\n",
        "print(df_numeric)"
      ],
      "metadata": {
        "colab": {
          "base_uri": "https://localhost:8080/"
        },
        "id": "MyoqBSx2hzoA",
        "outputId": "5eea0802-d676-4cef-a685-a3526ca2b4a5"
      },
      "execution_count": null,
      "outputs": [
        {
          "output_type": "stream",
          "name": "stdout",
          "text": [
            "Numeric DataFrame saved to banknumericdata.csv\n",
            "Numeric DataFrame:\n",
            "       age  balance  day  duration  campaign  pdays  previous\n",
            "0       58     2143    5       261         1     -1         0\n",
            "1       44       29    5       151         1     -1         0\n",
            "2       33        2    5        76         1     -1         0\n",
            "3       47     1506    5        92         1     -1         0\n",
            "4       33        1    5       198         1     -1         0\n",
            "...    ...      ...  ...       ...       ...    ...       ...\n",
            "45206   51      825   17       977         3     -1         0\n",
            "45207   71     1729   17       456         2     -1         0\n",
            "45208   72     5715   17      1127         5    184         3\n",
            "45209   57      668   17       508         4     -1         0\n",
            "45210   37     2971   17       361         2    188        11\n",
            "\n",
            "[45211 rows x 7 columns]\n"
          ]
        }
      ]
    },
    {
      "cell_type": "code",
      "source": [
        "#Qn4\n",
        "#read the csv file\n",
        "banknumeric_df = pd.read_csv('/content/banknumericdata.csv')\n",
        "\n",
        "#get the summary statistics and print it\n",
        "summary_statistics = banknumeric_df.describe()\n",
        "print(\"Summary Statictics:\\n\",summary_statistics)"
      ],
      "metadata": {
        "colab": {
          "base_uri": "https://localhost:8080/"
        },
        "id": "RdFIQULQjnDl",
        "outputId": "cbc05e6c-5af3-4435-b499-e8f2dfaeb31b"
      },
      "execution_count": null,
      "outputs": [
        {
          "output_type": "stream",
          "name": "stdout",
          "text": [
            "Summary Statictics:\n",
            "                 age        balance           day      duration      campaign  \\\n",
            "count  45211.000000   45211.000000  45211.000000  45211.000000  45211.000000   \n",
            "mean      40.936210    1362.272058     15.806419    258.163080      2.763841   \n",
            "std       10.618762    3044.765829      8.322476    257.527812      3.098021   \n",
            "min       18.000000   -8019.000000      1.000000      0.000000      1.000000   \n",
            "25%       33.000000      72.000000      8.000000    103.000000      1.000000   \n",
            "50%       39.000000     448.000000     16.000000    180.000000      2.000000   \n",
            "75%       48.000000    1428.000000     21.000000    319.000000      3.000000   \n",
            "max       95.000000  102127.000000     31.000000   4918.000000     63.000000   \n",
            "\n",
            "              pdays      previous  \n",
            "count  45211.000000  45211.000000  \n",
            "mean      40.197828      0.580323  \n",
            "std      100.128746      2.303441  \n",
            "min       -1.000000      0.000000  \n",
            "25%       -1.000000      0.000000  \n",
            "50%       -1.000000      0.000000  \n",
            "75%       -1.000000      0.000000  \n",
            "max      871.000000    275.000000  \n"
          ]
        }
      ]
    },
    {
      "cell_type": "code",
      "source": [
        "#Problem2\n",
        "\n",
        "#Qn1\n",
        "#Load the dataset and import to dataframe\n",
        "medical_student_df = pd.read_csv('/content/drive/MyDrive/medical_students_dataset.csv')\n",
        "print(medical_student_df.head())\n"
      ],
      "metadata": {
        "colab": {
          "base_uri": "https://localhost:8080/"
        },
        "id": "c4n68zURk0CR",
        "outputId": "e7382502-3173-4fed-f386-23469caed20e"
      },
      "execution_count": 23,
      "outputs": [
        {
          "output_type": "stream",
          "name": "stdout",
          "text": [
            "   Student ID   Age  Gender      Height     Weight Blood Type        BMI  \\\n",
            "0         1.0  18.0  Female  161.777924  72.354947          O  27.645835   \n",
            "1         2.0   NaN    Male  152.069157  47.630941          B        NaN   \n",
            "2         3.0  32.0  Female  182.537664  55.741083          A  16.729017   \n",
            "3         NaN  30.0    Male  182.112867  63.332207          B  19.096042   \n",
            "4         5.0  23.0  Female         NaN  46.234173          O        NaN   \n",
            "\n",
            "   Temperature  Heart Rate  Blood Pressure  Cholesterol Diabetes Smoking  \n",
            "0          NaN        95.0           109.0        203.0       No     NaN  \n",
            "1    98.714977        93.0           104.0        163.0       No      No  \n",
            "2    98.260293        76.0           130.0        216.0      Yes      No  \n",
            "3    98.839605        99.0           112.0        141.0       No     Yes  \n",
            "4    98.480008        95.0             NaN        231.0       No      No  \n"
          ]
        }
      ]
    },
    {
      "cell_type": "code",
      "source": [
        "#Qn2\n",
        "#Check info of dataframe\n",
        "medical_student_df.info()\n",
        "\n",
        "#identify column with missing values\n",
        "missing_values = medical_student_df.columns[medical_student_df.isnull().any()]\n",
        "print(\"Columns with missing values is:\",missing_values)\n",
        "\n",
        "#Qn3\n",
        "for col in missing_values:\n",
        "  if medical_student_df[col].dtype == 'object':\n",
        "        medical_student_df[col] = medical_student_df[col].fillna(medical_student_df[col].mode()[0]) #replaces all nan values with the mode value\n",
        "  else:\n",
        "        medical_student_df[col] = medical_student_df[col].fillna(medical_student_df[col].mean())\n",
        "\n",
        "#Qn4\n",
        "dup = medical_student_df.duplicated().sum()\n",
        "print(f\"Number of duplicated rows: {dup}\")\n",
        "medical_student_df=medical_student_df.drop_duplicates"
      ],
      "metadata": {
        "colab": {
          "base_uri": "https://localhost:8080/"
        },
        "id": "SFdZ_TpZlkfs",
        "outputId": "9049dd60-9b29-4a19-eb27-8b80a5e2cfcf"
      },
      "execution_count": 26,
      "outputs": [
        {
          "output_type": "stream",
          "name": "stdout",
          "text": [
            "<class 'pandas.core.frame.DataFrame'>\n",
            "RangeIndex: 200000 entries, 0 to 199999\n",
            "Data columns (total 13 columns):\n",
            " #   Column          Non-Null Count   Dtype  \n",
            "---  ------          --------------   -----  \n",
            " 0   Student ID      200000 non-null  float64\n",
            " 1   Age             200000 non-null  float64\n",
            " 2   Gender          200000 non-null  object \n",
            " 3   Height          200000 non-null  float64\n",
            " 4   Weight          200000 non-null  float64\n",
            " 5   Blood Type      200000 non-null  object \n",
            " 6   BMI             200000 non-null  float64\n",
            " 7   Temperature     200000 non-null  float64\n",
            " 8   Heart Rate      200000 non-null  float64\n",
            " 9   Blood Pressure  200000 non-null  float64\n",
            " 10  Cholesterol     200000 non-null  float64\n",
            " 11  Diabetes        200000 non-null  object \n",
            " 12  Smoking         200000 non-null  object \n",
            "dtypes: float64(9), object(4)\n",
            "memory usage: 19.8+ MB\n",
            "Columns with missing values is: Index([], dtype='object')\n",
            "Number of duplicated rows: 12572\n"
          ]
        }
      ]
    },
    {
      "cell_type": "code",
      "source": [
        "#Exercise 3.2\n",
        "#Problem1\n",
        "import pandas as pd\n",
        "\n",
        "t_df = pd.read_csv(\"/content/drive/MyDrive/Titanic-Dataset.csv\")\n",
        "sub_df = t_df[['Name', 'Pclass', 'Sex', 'Age', 'Fare', 'Survived']]\n",
        "cls_df = sub_df[sub_df[\"Pclass\"]==1]\n",
        "\n",
        "f_mean=cls_df[\"Fare\"].mean()\n",
        "f_median=cls_df[\"Fare\"].median()\n",
        "f_max=cls_df[\"Fare\"].max()\n",
        "f_min=cls_df[\"Fare\"].min()\n",
        "\n",
        "print(f\"Mean Fare: {f_mean}\")\n",
        "print(f\"Median Fare: {f_median}\")\n",
        "print(f\"Maximum Fare: {f_max}\")\n",
        "print(f\"Minimum Fare: {f_min}\")"
      ],
      "metadata": {
        "id": "S7S5xANDKldw",
        "colab": {
          "base_uri": "https://localhost:8080/"
        },
        "outputId": "2cb9dbbf-96b4-440f-bd63-888901b33ed7"
      },
      "execution_count": 7,
      "outputs": [
        {
          "output_type": "stream",
          "name": "stdout",
          "text": [
            "Mean Fare: 84.1546875\n",
            "Median Fare: 60.287499999999994\n",
            "Maximum Fare: 512.3292\n",
            "Minimum Fare: 0.0\n"
          ]
        }
      ]
    },
    {
      "cell_type": "code",
      "source": [
        "#Problem 2\n",
        "age_count=t_df[\"Age\"].isnull().sum()\n",
        "print(f\"Number of null age is: {age_count}\")\n",
        "\n",
        "drop_df=t_df.dropna(subset=[\"Age\"])\n",
        "print(f\"Dataframe after dropping null values:\\n {drop_df}\")\n"
      ],
      "metadata": {
        "colab": {
          "base_uri": "https://localhost:8080/"
        },
        "id": "55UF0GB6Yho8",
        "outputId": "7115fb68-d3d5-4600-9ac1-63a5e0bbe129"
      },
      "execution_count": 10,
      "outputs": [
        {
          "output_type": "stream",
          "name": "stdout",
          "text": [
            "Number of null age is: 177\n",
            "Dataframe after dropping null values:\n",
            "      PassengerId  Survived  Pclass  \\\n",
            "0              1         0       3   \n",
            "1              2         1       1   \n",
            "2              3         1       3   \n",
            "3              4         1       1   \n",
            "4              5         0       3   \n",
            "..           ...       ...     ...   \n",
            "885          886         0       3   \n",
            "886          887         0       2   \n",
            "887          888         1       1   \n",
            "889          890         1       1   \n",
            "890          891         0       3   \n",
            "\n",
            "                                                  Name     Sex   Age  SibSp  \\\n",
            "0                              Braund, Mr. Owen Harris    male  22.0      1   \n",
            "1    Cumings, Mrs. John Bradley (Florence Briggs Th...  female  38.0      1   \n",
            "2                               Heikkinen, Miss. Laina  female  26.0      0   \n",
            "3         Futrelle, Mrs. Jacques Heath (Lily May Peel)  female  35.0      1   \n",
            "4                             Allen, Mr. William Henry    male  35.0      0   \n",
            "..                                                 ...     ...   ...    ...   \n",
            "885               Rice, Mrs. William (Margaret Norton)  female  39.0      0   \n",
            "886                              Montvila, Rev. Juozas    male  27.0      0   \n",
            "887                       Graham, Miss. Margaret Edith  female  19.0      0   \n",
            "889                              Behr, Mr. Karl Howell    male  26.0      0   \n",
            "890                                Dooley, Mr. Patrick    male  32.0      0   \n",
            "\n",
            "     Parch            Ticket     Fare Cabin Embarked  \n",
            "0        0         A/5 21171   7.2500   NaN        S  \n",
            "1        0          PC 17599  71.2833   C85        C  \n",
            "2        0  STON/O2. 3101282   7.9250   NaN        S  \n",
            "3        0            113803  53.1000  C123        S  \n",
            "4        0            373450   8.0500   NaN        S  \n",
            "..     ...               ...      ...   ...      ...  \n",
            "885      5            382652  29.1250   NaN        Q  \n",
            "886      0            211536  13.0000   NaN        S  \n",
            "887      0            112053  30.0000   B42        S  \n",
            "889      0            111369  30.0000  C148        C  \n",
            "890      0            370376   7.7500   NaN        Q  \n",
            "\n",
            "[714 rows x 12 columns]\n"
          ]
        }
      ]
    },
    {
      "cell_type": "code",
      "source": [
        "#Problem 3\n",
        "\n",
        "t_df = pd.read_csv(\"/content/drive/MyDrive/Titanic-Dataset.csv\")\n",
        "emb_dum=pd.get_dummies(t_df[\"Embarked\"], prefix=\"Embarked\")\n",
        "t_df=pd.concat([t_df, emb_dum],axis=1)\n",
        "\n",
        "t_df.drop(columns=[\"Embarked\"],inplace=True)\n",
        "print(t_df.head())"
      ],
      "metadata": {
        "colab": {
          "base_uri": "https://localhost:8080/"
        },
        "id": "CsfyjgzXa84C",
        "outputId": "993f4eea-833c-48a9-e6b6-4a44a43f85c6"
      },
      "execution_count": 11,
      "outputs": [
        {
          "output_type": "stream",
          "name": "stdout",
          "text": [
            "   PassengerId  Survived  Pclass  \\\n",
            "0            1         0       3   \n",
            "1            2         1       1   \n",
            "2            3         1       3   \n",
            "3            4         1       1   \n",
            "4            5         0       3   \n",
            "\n",
            "                                                Name     Sex   Age  SibSp  \\\n",
            "0                            Braund, Mr. Owen Harris    male  22.0      1   \n",
            "1  Cumings, Mrs. John Bradley (Florence Briggs Th...  female  38.0      1   \n",
            "2                             Heikkinen, Miss. Laina  female  26.0      0   \n",
            "3       Futrelle, Mrs. Jacques Heath (Lily May Peel)  female  35.0      1   \n",
            "4                           Allen, Mr. William Henry    male  35.0      0   \n",
            "\n",
            "   Parch            Ticket     Fare Cabin  Embarked_C  Embarked_Q  Embarked_S  \n",
            "0      0         A/5 21171   7.2500   NaN       False       False        True  \n",
            "1      0          PC 17599  71.2833   C85        True       False       False  \n",
            "2      0  STON/O2. 3101282   7.9250   NaN       False       False        True  \n",
            "3      0            113803  53.1000  C123       False       False        True  \n",
            "4      0            373450   8.0500   NaN       False       False        True  \n"
          ]
        }
      ]
    },
    {
      "cell_type": "code",
      "source": [
        "#Problem 4\n",
        "import seaborn as sns\n",
        "t_df = pd.read_csv(\"/content/drive/MyDrive/Titanic-Dataset.csv\")\n",
        "surv_rate_gen=t_df.groupby(\"Sex\")[\"Survived\"].mean()\n",
        "print(\"Mean survival rates by Gender: \")\n",
        "print(surv_rate_gen)\n",
        "\n",
        "sns.barplot(x=surv_rate_gen, y=surv_rate_gen.values)"
      ],
      "metadata": {
        "colab": {
          "base_uri": "https://localhost:8080/",
          "height": 553
        },
        "id": "cj-GXHpybiF2",
        "outputId": "3c4fad66-b9b8-44b1-c304-e8e43a63b68c"
      },
      "execution_count": 12,
      "outputs": [
        {
          "output_type": "stream",
          "name": "stdout",
          "text": [
            "Mean survival rates by Gender: \n",
            "Sex\n",
            "female    0.742038\n",
            "male      0.188908\n",
            "Name: Survived, dtype: float64\n"
          ]
        },
        {
          "output_type": "execute_result",
          "data": {
            "text/plain": [
              "<Axes: xlabel='Survived'>"
            ]
          },
          "metadata": {},
          "execution_count": 12
        },
        {
          "output_type": "display_data",
          "data": {
            "text/plain": [
              "<Figure size 640x480 with 1 Axes>"
            ],
            "image/png": "[encoded data removed]"
          },
          "metadata": {}
        }
      ]
    },
    {
      "cell_type": "code",
      "source": [
        "#Problem 5\n",
        "t_df = pd.read_csv(\"/content/drive/MyDrive/Titanic-Dataset.csv\")\n",
        "t_df=t_df[t_df[\"Embarked\"].isin([\"C\",\"Q\",\"S\"])]\n",
        "\n",
        "sns.barplot(data=t_df, x=\"Embarked\", y=\"Survived\")"
      ],
      "metadata": {
        "colab": {
          "base_uri": "https://localhost:8080/",
          "height": 466
        },
        "id": "OW8v2oercBlr",
        "outputId": "c81b9f8c-3382-437b-db74-d4c275b6dd40"
      },
      "execution_count": 13,
      "outputs": [
        {
          "output_type": "execute_result",
          "data": {
            "text/plain": [
              "<Axes: xlabel='Embarked', ylabel='Survived'>"
            ]
          },
          "metadata": {},
          "execution_count": 13
        },
        {
          "output_type": "display_data",
          "data": {
            "text/plain": [
              "<Figure size 640x480 with 1 Axes>"
            ],
            "image/png": "[encoded data removed]"
          },
          "metadata": {}
        }
      ]
    },
    {
      "cell_type": "code",
      "source": [
        "#Problem 6\n",
        "import seaborn as sns\n",
        "t_df = pd.read_csv(\"/content/drive/MyDrive/Titanic-Dataset.csv\")\n",
        "t_df=t_df.dropna(subset=[\"Age\"])\n",
        "\n",
        "t_df[\"Age Group\"]=pd.qcut(t_df[\"Age\"], q=5, labels=[\"Q1\",\"Q2\",\"Q3\",\"Q4\",\"Q5\"])\n",
        "# q=5 tells pandas to split age into 5\n",
        "grp_data=t_df.groupby([\"Age Group\",\"Pclass\"])[\"Survived\"].mean().reset_index()\n",
        "#groups dataframe by age group and passenger class then survived ko mean nikalinxa and ako result lai back into dataframe lanxa index reset garera plotting ko lai use hos vanerw\n",
        "sns.barplot(data=grp_data, x='Age Group', y='Survived')"
      ],
      "metadata": {
        "colab": {
          "base_uri": "https://localhost:8080/",
          "height": 521
        },
        "id": "BJmmdj4HcuuO",
        "outputId": "8b5de6b4-aa71-4251-a5be-1562a5f8fd8d"
      },
      "execution_count": 14,
      "outputs": [
        {
          "output_type": "stream",
          "name": "stderr",
          "text": [
            "<ipython-input-14-b05f06007825>:8: FutureWarning: The default of observed=False is deprecated and will be changed to True in a future version of pandas. Pass observed=False to retain current behavior or observed=True to adopt the future default and silence this warning.\n",
            "  grp_data=t_df.groupby([\"Age Group\",\"Pclass\"])[\"Survived\"].mean().reset_index()\n"
          ]
        },
        {
          "output_type": "execute_result",
          "data": {
            "text/plain": [
              "<Axes: xlabel='Age Group', ylabel='Survived'>"
            ]
          },
          "metadata": {},
          "execution_count": 14
        },
        {
          "output_type": "display_data",
          "data": {
            "text/plain": [
              "<Figure size 640x480 with 1 Axes>"
            ],
            "image/png": "[encoded data removed]"
          },
          "metadata": {}
        }
      ]
    }
  ]
}